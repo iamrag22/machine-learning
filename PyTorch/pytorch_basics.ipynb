{
 "cells": [
  {
   "cell_type": "code",
   "execution_count": 6,
   "metadata": {},
   "outputs": [],
   "source": [
    "import torch"
   ]
  },
  {
   "cell_type": "code",
   "execution_count": 7,
   "metadata": {},
   "outputs": [
    {
     "name": "stdout",
     "output_type": "stream",
     "text": [
      "1 torch.Size([3])\n"
     ]
    }
   ],
   "source": [
    "# Tensor attributes\n",
    "t1 = torch.tensor([1,2,3])\n",
    "print(t1.dim(), t1.shape)"
   ]
  },
  {
   "cell_type": "code",
   "execution_count": 10,
   "metadata": {},
   "outputs": [
    {
     "name": "stdout",
     "output_type": "stream",
     "text": [
      "Number of axes/dimensions/indixes required to access an element  2\n",
      "tensor([[ 1,  2,  3],\n",
      "        [ 4,  5,  6],\n",
      "        [ 7,  8,  9],\n",
      "        [10, 11, 12]])\n"
     ]
    }
   ],
   "source": [
    "t2 = torch.tensor(\n",
    "    [[1,2,3],\n",
    "     [4,5,6],\n",
    "     [7,8,9],\n",
    "     [10,11,12]\n",
    "    ]\n",
    ")\n",
    "print(\"Number of axes/dimensions/indixes required to access an element \", t2.dim())\n",
    "print(t2)"
   ]
  },
  {
   "cell_type": "code",
   "execution_count": null,
   "metadata": {},
   "outputs": [],
   "source": [
    "# Begin Reshaping operations Section"
   ]
  },
  {
   "cell_type": "code",
   "execution_count": 20,
   "metadata": {},
   "outputs": [
    {
     "data": {
      "text/plain": [
       "(torch.Size([2, 6]), 2, 12)"
      ]
     },
     "execution_count": 20,
     "metadata": {},
     "output_type": "execute_result"
    }
   ],
   "source": [
    "# Using reshape()\n",
    "t3 = t2.reshape((2,6))\n",
    "t3.shape, t3.dim(), t3.numel()"
   ]
  },
  {
   "cell_type": "code",
   "execution_count": 13,
   "metadata": {},
   "outputs": [
    {
     "data": {
      "text/plain": [
       "tensor([[ 1,  2,  3,  4,  5,  6,  7,  8,  9, 10, 11, 12]])"
      ]
     },
     "execution_count": 13,
     "metadata": {},
     "output_type": "execute_result"
    }
   ],
   "source": [
    "# Using view()\n",
    "t2.view((1,12))"
   ]
  },
  {
   "cell_type": "code",
   "execution_count": 17,
   "metadata": {},
   "outputs": [
    {
     "name": "stdout",
     "output_type": "stream",
     "text": [
      "tensor([[[1, 2, 3, 4],\n",
      "         [5, 6, 7, 8]]]) torch.Size([1, 2, 4]) \n",
      "\n",
      "tensor([[[1, 2, 3, 4]],\n",
      "\n",
      "        [[5, 6, 7, 8]]]) torch.Size([2, 1, 4])\n"
     ]
    }
   ],
   "source": [
    "# Using unsqueeze() to add a new dimension of rank1 at the specified dim\n",
    "\n",
    "t = torch.tensor([\n",
    "    [1,2,3,4],\n",
    "    [5,6,7,8],\n",
    "])\n",
    "t0_unsq = t.unsqueeze(dim=0)\n",
    "t1_unsq = t.unsqueeze(dim=1)\n",
    "print(t0_unsq, t0_unsq.shape, \"\\n\")\n",
    "print(t1_unsq, t1_unsq.shape)\n"
   ]
  },
  {
   "cell_type": "code",
   "execution_count": 20,
   "metadata": {},
   "outputs": [
    {
     "name": "stdout",
     "output_type": "stream",
     "text": [
      "Before unsqueeze tensor([[[0.0973, 0.8002, 0.5463, 0.9779, 0.5315, 0.6094, 0.3179, 0.4331,\n",
      "          0.6416, 0.1813, 0.9285, 0.4356]]]) \n",
      "\n",
      "After unsqueeze tensor([0.0973, 0.8002, 0.5463, 0.9779, 0.5315, 0.6094, 0.3179, 0.4331, 0.6416,\n",
      "        0.1813, 0.9285, 0.4356]) torch.Size([12]) \n",
      "\n"
     ]
    }
   ],
   "source": [
    "# Use squeeze to remove all length 1  dimensions\n",
    "t = torch.rand(3,4)\n",
    "\n",
    "# Shape (1,1,12)\n",
    "tz = t.reshape(1,1,12)\n",
    "print(\"Before unsqueeze\", tz, \"\\n\")\n",
    "\n",
    "tz1 = tz.squeeze()\n",
    "\n",
    "# Shape [12]\n",
    "print(\"After unsqueeze\", tz1, tz1.shape, \"\\n\")\n"
   ]
  },
  {
   "cell_type": "code",
   "execution_count": 24,
   "metadata": {},
   "outputs": [
    {
     "name": "stdout",
     "output_type": "stream",
     "text": [
      "Before flatten  tensor([[[0.1138, 0.2805, 0.8692, 0.0478],\n",
      "         [0.6811, 0.2091, 0.4056, 0.7155],\n",
      "         [0.5528, 0.3131, 0.6136, 0.7211]],\n",
      "\n",
      "        [[0.1093, 0.3562, 0.2891, 0.3517],\n",
      "         [0.7930, 0.8745, 0.0818, 0.4835],\n",
      "         [0.3295, 0.8563, 0.8852, 0.7181]]]) torch.Size([2, 3, 4]) \n",
      "\n",
      "After flatten  tensor([[0.1138, 0.2805, 0.8692, 0.0478, 0.6811, 0.2091, 0.4056, 0.7155, 0.5528,\n",
      "         0.3131, 0.6136, 0.7211],\n",
      "        [0.1093, 0.3562, 0.2891, 0.3517, 0.7930, 0.8745, 0.0818, 0.4835, 0.3295,\n",
      "         0.8563, 0.8852, 0.7181]]) torch.Size([2, 12]) \n",
      "\n"
     ]
    }
   ],
   "source": [
    "# Use flatten to reduce dimensions\n",
    "a = torch.rand(2,3,4)\n",
    "print(\"Before flatten \",a, a.shape, \"\\n\")\n",
    "a_flat = a.flatten(start_dim=1)\n",
    "print(\"After flatten \",a_flat, a_flat.shape, \"\\n\")"
   ]
  },
  {
   "cell_type": "code",
   "execution_count": 29,
   "metadata": {},
   "outputs": [
    {
     "name": "stdout",
     "output_type": "stream",
     "text": [
      "Concat along first dim\n",
      "  tensor([[1, 2],\n",
      "        [3, 4],\n",
      "        [5, 6],\n",
      "        [7, 8]]) \n",
      "\n",
      "Concat along second dim\n",
      " tensor([[1, 2, 5, 6],\n",
      "        [3, 4, 7, 8]])\n"
     ]
    }
   ],
   "source": [
    "# Use cat to concat tensors\n",
    "a = [[1,2],[3,4]]\n",
    "b= [[5,6],[7,8]]\n",
    "t1 = torch.tensor(a)\n",
    "t2 = torch.tensor(b)\n",
    "\n",
    "t_concat0 = torch.cat((t1,t2), dim=0)\n",
    "print(\"Concat along first dim\\n \",t_concat0, \"\\n\")\n",
    "\n",
    "t_concat1 = torch.cat((t1,t2), dim=1)\n",
    "print(\"Concat along second dim\\n\", t_concat1)\n",
    "\n"
   ]
  },
  {
   "cell_type": "code",
   "execution_count": null,
   "metadata": {},
   "outputs": [],
   "source": [
    "# End of Reshaping operations\n"
   ]
  },
  {
   "cell_type": "code",
   "execution_count": null,
   "metadata": {},
   "outputs": [],
   "source": [
    "# Begin Element Wise Operations"
   ]
  },
  {
   "cell_type": "code",
   "execution_count": 30,
   "metadata": {},
   "outputs": [
    {
     "name": "stdout",
     "output_type": "stream",
     "text": [
      "\n",
      " t1+t2 \n",
      " tensor([[ 6,  8],\n",
      "        [10, 12]])\n",
      "\n",
      " t1+5 \n",
      " tensor([[6, 7],\n",
      "        [8, 9]])\n"
     ]
    }
   ],
   "source": [
    "# Arithmetic operations\n",
    "a = [[1,2],\n",
    "     [3,4]\n",
    "    ]\n",
    "b = [[5,6],\n",
    "     [7,8]\n",
    "    ]\n",
    "\n",
    "t1 = torch.tensor(a)\n",
    "t2 = torch.tensor(b)\n",
    "\n",
    "print(\"\\n t1+t2 \\n\", t1+t2)\n",
    "print(\"\\n t1+5 \\n\", t1+5)\n",
    "\n"
   ]
  },
  {
   "cell_type": "code",
   "execution_count": 32,
   "metadata": {},
   "outputs": [
    {
     "data": {
      "text/plain": [
       "tensor([[ 5, 10],\n",
       "        [ 7, 12]])"
      ]
     },
     "execution_count": 32,
     "metadata": {},
     "output_type": "execute_result"
    }
   ],
   "source": [
    "# Broadcast Example\n",
    "t3 = torch.tensor([4,8])\n",
    "# t3 is broadcasted as [[4,8],[4,8]] to match  T1 shape \n",
    "t1+t3"
   ]
  },
  {
   "cell_type": "code",
   "execution_count": 47,
   "metadata": {},
   "outputs": [
    {
     "name": "stdout",
     "output_type": "stream",
     "text": [
      "\n",
      "  tensor([[ True, False],\n",
      "        [ True, False]]) \n",
      "\n",
      "\n",
      "  tensor([[True, True],\n",
      "        [True, True]]) \n",
      "\n"
     ]
    }
   ],
   "source": [
    "# Comparision operations\n",
    "a = [[1,2],\n",
    "     [1,4]\n",
    "    ]\n",
    "t = torch.tensor(a)\n",
    "print(\"\\n \", t.eq(1), \"\\n\")\n",
    "print(\"\\n \", t.lt(7), \"\\n\")"
   ]
  },
  {
   "cell_type": "code",
   "execution_count": null,
   "metadata": {},
   "outputs": [],
   "source": [
    "# End Element Wise Operations"
   ]
  },
  {
   "cell_type": "code",
   "execution_count": null,
   "metadata": {},
   "outputs": [],
   "source": [
    "# Begin Reduction Operations"
   ]
  },
  {
   "cell_type": "code",
   "execution_count": 49,
   "metadata": {},
   "outputs": [
    {
     "name": "stdout",
     "output_type": "stream",
     "text": [
      "All elements sum  tensor(8) \n",
      "\n",
      "sum aong first dim  tensor([2, 6]) \n",
      "\n",
      "sum along second dim tensor([3, 5]) \n",
      "\n"
     ]
    }
   ],
   "source": [
    "a = [[1,2],\n",
    "     [1,4]\n",
    "    ]\n",
    "t = torch.tensor(a)\n",
    "print(\"All elements sum \", t.sum(), \"\\n\")\n",
    "print(\"sum along first dim \", t.sum(dim=0), \"\\n\")\n",
    "print(\"sum along second dim\", t.sum(dim=1), \"\\n\")\n"
   ]
  },
  {
   "cell_type": "code",
   "execution_count": 52,
   "metadata": {},
   "outputs": [
    {
     "name": "stdout",
     "output_type": "stream",
     "text": [
      "\n",
      " Overall max \n",
      " tensor(10)\n",
      "\n",
      " Overall arg max \n",
      " tensor(8)\n",
      "\n",
      " max along dim 0 \n",
      " torch.return_types.max(\n",
      "values=tensor([10,  2,  6,  9]),\n",
      "indices=tensor([2, 0, 2, 0]))\n",
      "\n",
      " argmax along dim 0 \n",
      " tensor([2, 0, 2, 0])\n",
      "\n",
      " max along dim 1 \n",
      " torch.return_types.max(\n",
      "values=tensor([ 9,  4, 10]),\n",
      "indices=tensor([3, 3, 0]))\n",
      "\n",
      " argmax along dim 1 \n",
      " tensor([3, 3, 0])\n"
     ]
    }
   ],
   "source": [
    "b = [[1,2,3,9],\n",
    "     [-1,0,1,4],\n",
    "     [10, 1,6,7]\n",
    "    ]\n",
    "t = torch.tensor(b)\n",
    "print(\"\\n Overall max \\n\", t.max())\n",
    "print(\"\\n Overall arg max \\n\", t.argmax())\n",
    "print(\"\\n max along dim 0 \\n\", t.max(dim=0))\n",
    "print(\"\\n argmax along dim 0 \\n\", t.argmax(dim=0))\n",
    "print(\"\\n max along dim 1 \\n\", t.max(dim=1))\n",
    "print(\"\\n argmax along dim 1 \\n\", t.argmax(dim=1))\n"
   ]
  },
  {
   "cell_type": "code",
   "execution_count": 53,
   "metadata": {},
   "outputs": [
    {
     "data": {
      "text/plain": [
       "tensor([1, 3, 5, 7])"
      ]
     },
     "execution_count": 53,
     "metadata": {},
     "output_type": "execute_result"
    }
   ],
   "source": [
    "# Indexes\n",
    "a = [[1,2,3,4],[5,6,7,8]]\n",
    "t = torch.tensor(a)\n",
    "t[t%2==1]"
   ]
  },
  {
   "cell_type": "code",
   "execution_count": 2,
   "metadata": {},
   "outputs": [
    {
     "data": {
      "text/plain": [
       "torch.Size([128, 64, 1, 1])"
      ]
     },
     "execution_count": 2,
     "metadata": {},
     "output_type": "execute_result"
    }
   ],
   "source": [
    "import torch\n",
    "x = torch.randn(128,64,1,1)\n",
    "x.shape"
   ]
  },
  {
   "cell_type": "code",
   "execution_count": null,
   "metadata": {},
   "outputs": [],
   "source": []
  }
 ],
 "metadata": {
  "kernelspec": {
   "display_name": "Python 3.8.2 64-bit ('pytorchenv': conda)",
   "language": "python",
   "name": "python38264bitpytorchenvcondaa1d2a31854e0434a85965068b8c72b15"
  },
  "language_info": {
   "codemirror_mode": {
    "name": "ipython",
    "version": 3
   },
   "file_extension": ".py",
   "mimetype": "text/x-python",
   "name": "python",
   "nbconvert_exporter": "python",
   "pygments_lexer": "ipython3",
   "version": "3.8.2"
  }
 },
 "nbformat": 4,
 "nbformat_minor": 4
}
