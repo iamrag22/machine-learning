{
 "cells": [
  {
   "cell_type": "code",
   "execution_count": 5,
   "metadata": {},
   "outputs": [],
   "source": [
    "import sklearn\n",
    "import numpy as np\n",
    "import pandas as pd\n"
   ]
  },
  {
   "cell_type": "code",
   "execution_count": 40,
   "metadata": {},
   "outputs": [
    {
     "data": {
      "text/plain": [
       "0        1\n",
       "1        2\n",
       "2        3\n",
       "3        4\n",
       "4    Hello\n",
       "5     True\n",
       "6      1.6\n",
       "dtype: object"
      ]
     },
     "execution_count": 40,
     "metadata": {},
     "output_type": "execute_result"
    }
   ],
   "source": [
    "# Implicit Index\n",
    "data = [1,2,3,4,\"Hello\", True, 1.6]\n",
    "a = pd.Series(data)\n",
    "a"
   ]
  },
  {
   "cell_type": "code",
   "execution_count": 42,
   "metadata": {},
   "outputs": [
    {
     "data": {
      "text/plain": [
       "10        1\n",
       "20        2\n",
       "30        3\n",
       "40        4\n",
       "50    Hello\n",
       "60     True\n",
       "70      1.6\n",
       "dtype: object"
      ]
     },
     "execution_count": 42,
     "metadata": {},
     "output_type": "execute_result"
    }
   ],
   "source": [
    "# Explicit Index\n",
    "data = [1,2,3,4,\"Hello\", True, 1.6]\n",
    "a = pd.Series(data, index=[10,20,30,40,50,60,70])\n",
    "a"
   ]
  },
  {
   "cell_type": "code",
   "execution_count": 50,
   "metadata": {},
   "outputs": [
    {
     "data": {
      "text/plain": [
       "i1       10\n",
       "i2       20\n",
       "i3    Hello\n",
       "dtype: object"
      ]
     },
     "execution_count": 50,
     "metadata": {},
     "output_type": "execute_result"
    }
   ],
   "source": [
    "# Specify as {index:value} foramt\n",
    "data = {\"i1\": 10, \"i2\":20, \"i3\":\"Hello\"}\n",
    "a = pd.Series(data)\n",
    "a"
   ]
  },
  {
   "cell_type": "code",
   "execution_count": 54,
   "metadata": {},
   "outputs": [
    {
     "name": "stdout",
     "output_type": "stream",
     "text": [
      "i1    10\n",
      "i2    20\n",
      "dtype: object\n",
      "\n",
      "\n",
      "i1       10\n",
      "i3    Hello\n",
      "dtype: object\n"
     ]
    }
   ],
   "source": [
    "# select a subset of records\n",
    "print(a[:2]) # First 2 records\n",
    "print(\"\\n\")\n",
    "print(a[[\"i1\", \"i3\"]]) # First and Third record"
   ]
  },
  {
   "cell_type": "code",
   "execution_count": 63,
   "metadata": {},
   "outputs": [
    {
     "name": "stdout",
     "output_type": "stream",
     "text": [
      "Labels:  [Index(['i1', 'i2', 'i3'], dtype='object')]\n",
      "Values:  [10 20 'Hello']\n",
      "Element count:  3\n",
      "\n",
      " First n:\n",
      "  i1    10\n",
      "i2    20\n",
      "dtype: object\n",
      "\n",
      " Last n:\n",
      " i2       20\n",
      "i3    Hello\n",
      "dtype: object\n"
     ]
    }
   ],
   "source": [
    "print(\"Labels: \", a.axes) # Just the index names\n",
    "print(\"Values: \", a.values) # Just the values\n",
    "\n",
    "print(\"Element count: \",a.size)\n",
    "print(\"\\n First n:\\n \", a.head(2))\n",
    "print(\"\\n Last n:\\n\", a.tail(2))\n"
   ]
  },
  {
   "cell_type": "code",
   "execution_count": 69,
   "metadata": {},
   "outputs": [
    {
     "name": "stdout",
     "output_type": "stream",
     "text": [
      "  Name  age\n",
      "0   rg   33\n",
      "1  foo   20\n",
      "2  bar   40\n",
      "\n",
      "\n",
      "\n",
      "  Name  age\n",
      "0   rg   33\n",
      "1  foo   20\n",
      "2  bar   40\n",
      "\n",
      "\n",
      "\n",
      "  Name  age\n",
      "0   rg   33\n",
      "1  foo   20\n",
      "2  bar   40\n",
      "\n",
      "\n",
      "\n"
     ]
    }
   ],
   "source": [
    "# Dataframe\n",
    "\n",
    "# Create\n",
    "\n",
    "\n",
    "# Each record is a dictionary of (colmn_name:value)\n",
    "data = [{\"Name\": \"rg\", \"age\": 33}, {\"Name\": \"foo\", \"age\": 20}, {\"Name\": \"bar\", \"age\": 40}]\n",
    "b =  pd.DataFrame(data)\n",
    "print(b)\n",
    "print(\"\\n\\n\")\n",
    "\n",
    "# 1 dictionary. Each key is a column name\n",
    "data = {\"Name\" : [\"rg\", \"foo\", \"bar\"], \n",
    "        \"age\" : [33,20,40]  \n",
    "       }\n",
    "b = pd.DataFrame(data)\n",
    "print(b)\n",
    "print(\"\\n\\n\")\n",
    "\n",
    "\n",
    "# 2 lists. 1 for column names and 1 for values\n",
    "data = [[\"rg\", 33], [\"foo\", 20], [\"bar\",40]]\n",
    "b = pd.DataFrame(data, columns= [\"Name\", \"age\"])\n",
    "print(b)\n",
    "print(\"\\n\\n\")\n",
    "\n",
    "\n"
   ]
  },
  {
   "cell_type": "code",
   "execution_count": 74,
   "metadata": {},
   "outputs": [
    {
     "name": "stdout",
     "output_type": "stream",
     "text": [
      "[RangeIndex(start=0, stop=3, step=1), Index(['Name', 'age'], dtype='object')]\n",
      "6\n",
      "  Name  age\n",
      "0   rg   33\n",
      "1  foo   20 \n",
      "\n",
      "  Name  age\n",
      "1  foo   20\n",
      "2  bar   40\n"
     ]
    }
   ],
   "source": [
    "# Stats\n",
    "print(b.axes)\n",
    "print(b.size)\n",
    "print(b.head(2), \"\\n\")\n",
    "print(b.tail(2))"
   ]
  },
  {
   "cell_type": "code",
   "execution_count": 1,
   "metadata": {},
   "outputs": [],
   "source": [
    "import pandas as pd"
   ]
  },
  {
   "cell_type": "code",
   "execution_count": 9,
   "metadata": {},
   "outputs": [
    {
     "data": {
      "text/html": [
       "<div>\n",
       "<style scoped>\n",
       "    .dataframe tbody tr th:only-of-type {\n",
       "        vertical-align: middle;\n",
       "    }\n",
       "\n",
       "    .dataframe tbody tr th {\n",
       "        vertical-align: top;\n",
       "    }\n",
       "\n",
       "    .dataframe thead th {\n",
       "        text-align: right;\n",
       "    }\n",
       "</style>\n",
       "<table border=\"1\" class=\"dataframe\">\n",
       "  <thead>\n",
       "    <tr style=\"text-align: right;\">\n",
       "      <th></th>\n",
       "      <th>c1</th>\n",
       "      <th>c2</th>\n",
       "    </tr>\n",
       "  </thead>\n",
       "  <tbody>\n",
       "    <tr>\n",
       "      <th>0</th>\n",
       "      <td>1.0</td>\n",
       "      <td>4.0</td>\n",
       "    </tr>\n",
       "    <tr>\n",
       "      <th>1</th>\n",
       "      <td>NaN</td>\n",
       "      <td>NaN</td>\n",
       "    </tr>\n",
       "    <tr>\n",
       "      <th>2</th>\n",
       "      <td>3.0</td>\n",
       "      <td>NaN</td>\n",
       "    </tr>\n",
       "  </tbody>\n",
       "</table>\n",
       "</div>"
      ],
      "text/plain": [
       "    c1   c2\n",
       "0  1.0  4.0\n",
       "1  NaN  NaN\n",
       "2  3.0  NaN"
      ]
     },
     "execution_count": 9,
     "metadata": {},
     "output_type": "execute_result"
    }
   ],
   "source": [
    "df = pd.DataFrame({\"c1\": [1,None,3], \"c2\": [4,None,None]})\n",
    "df"
   ]
  },
  {
   "cell_type": "code",
   "execution_count": 10,
   "metadata": {},
   "outputs": [
    {
     "data": {
      "text/html": [
       "<div>\n",
       "<style scoped>\n",
       "    .dataframe tbody tr th:only-of-type {\n",
       "        vertical-align: middle;\n",
       "    }\n",
       "\n",
       "    .dataframe tbody tr th {\n",
       "        vertical-align: top;\n",
       "    }\n",
       "\n",
       "    .dataframe thead th {\n",
       "        text-align: right;\n",
       "    }\n",
       "</style>\n",
       "<table border=\"1\" class=\"dataframe\">\n",
       "  <thead>\n",
       "    <tr style=\"text-align: right;\">\n",
       "      <th></th>\n",
       "      <th>c1</th>\n",
       "      <th>c2</th>\n",
       "    </tr>\n",
       "  </thead>\n",
       "  <tbody>\n",
       "    <tr>\n",
       "      <th>0</th>\n",
       "      <td>False</td>\n",
       "      <td>False</td>\n",
       "    </tr>\n",
       "    <tr>\n",
       "      <th>1</th>\n",
       "      <td>True</td>\n",
       "      <td>True</td>\n",
       "    </tr>\n",
       "    <tr>\n",
       "      <th>2</th>\n",
       "      <td>False</td>\n",
       "      <td>True</td>\n",
       "    </tr>\n",
       "  </tbody>\n",
       "</table>\n",
       "</div>"
      ],
      "text/plain": [
       "      c1     c2\n",
       "0  False  False\n",
       "1   True   True\n",
       "2  False   True"
      ]
     },
     "execution_count": 10,
     "metadata": {},
     "output_type": "execute_result"
    }
   ],
   "source": [
    "df.isna()"
   ]
  },
  {
   "cell_type": "code",
   "execution_count": 11,
   "metadata": {},
   "outputs": [
    {
     "data": {
      "text/plain": [
       "c1    1\n",
       "c2    2\n",
       "dtype: int64"
      ]
     },
     "execution_count": 11,
     "metadata": {},
     "output_type": "execute_result"
    }
   ],
   "source": [
    "df.isna().sum()"
   ]
  },
  {
   "cell_type": "code",
   "execution_count": null,
   "metadata": {},
   "outputs": [],
   "source": []
  }
 ],
 "metadata": {
  "kernelspec": {
   "display_name": "Python 3.6 (tensorflow)",
   "language": "python",
   "name": "env1"
  },
  "language_info": {
   "codemirror_mode": {
    "name": "ipython",
    "version": 3
   },
   "file_extension": ".py",
   "mimetype": "text/x-python",
   "name": "python",
   "nbconvert_exporter": "python",
   "pygments_lexer": "ipython3",
   "version": "3.6.8"
  }
 },
 "nbformat": 4,
 "nbformat_minor": 4
}
