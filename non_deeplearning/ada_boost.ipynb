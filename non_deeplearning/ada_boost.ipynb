{
 "cells": [
  {
   "cell_type": "code",
   "execution_count": 2,
   "metadata": {},
   "outputs": [],
   "source": [
    "from sklearn.datasets import make_classification\n",
    "import numpy as np"
   ]
  },
  {
   "cell_type": "code",
   "execution_count": 3,
   "metadata": {},
   "outputs": [],
   "source": [
    "RANDOM_SEED = 6\n",
    "X,y = make_classification(\n",
    "    n_samples = 1000, \n",
    "    n_features= 20,\n",
    "    n_classes = 2,\n",
    "    random_state = 6,\n",
    "    n_redundant = 5, # Redundant features\n",
    "    n_informative = 15 # Independent features\n",
    ")"
   ]
  },
  {
   "cell_type": "code",
   "execution_count": 4,
   "metadata": {},
   "outputs": [
    {
     "data": {
      "text/plain": [
       "((1000, 20), (1000,))"
      ]
     },
     "execution_count": 4,
     "metadata": {},
     "output_type": "execute_result"
    }
   ],
   "source": [
    "X.shape,y.shape"
   ]
  },
  {
   "cell_type": "code",
   "execution_count": 16,
   "metadata": {},
   "outputs": [
    {
     "data": {
      "text/plain": [
       "1    500\n",
       "0    500\n",
       "Name: label, dtype: int64"
      ]
     },
     "execution_count": 16,
     "metadata": {},
     "output_type": "execute_result"
    }
   ],
   "source": [
    "# Check label distribution\n",
    "import pandas as pd\n",
    "df = pd.DataFrame(y, columns = ['label'])\n",
    "df['label'].value_counts()\n"
   ]
  },
  {
   "cell_type": "code",
   "execution_count": 27,
   "metadata": {},
   "outputs": [
    {
     "name": "stdout",
     "output_type": "stream",
     "text": [
      "[0.79 0.82 0.84 0.75 0.88 0.79 0.77 0.84 0.83 0.84 0.83 0.84 0.81 0.79\n",
      " 0.72 0.76 0.84 0.76 0.79 0.82 0.84 0.8  0.78 0.82 0.8  0.84 0.81 0.89\n",
      " 0.71 0.79] 30\n",
      "Accuracy: 0.806 (0.041)\n"
     ]
    }
   ],
   "source": [
    "from sklearn.model_selection import RepeatedStratifiedKFold, cross_val_score\n",
    "from sklearn.ensemble import AdaBoostClassifier\n",
    "# Choose the cv strategy\n",
    "cv = RepeatedStratifiedKFold(n_splits = 10,  n_repeats = 3, random_state = 1)\n",
    "\n",
    "# Select model with default hyper params\n",
    "model = AdaBoostClassifier()\n",
    "\n",
    "# Apply cv on model\n",
    "scores = cross_val_score(model, X, y, scoring='accuracy', cv = cv, n_jobs = -1)\n",
    "\n",
    "# Returns the score for each pass (Total: 10*3 = 30) in a list \n",
    "print(scores, len(scores))\n",
    "print('Accuracy: %.3f (%.3f)' % (np.mean(scores), np.std(scores)))"
   ]
  },
  {
   "cell_type": "code",
   "execution_count": null,
   "metadata": {},
   "outputs": [],
   "source": [
    "# cv on the training set only\n",
    "#  TODO: Review https://www.ritchieng.com/machine-learning-cross-validation/"
   ]
  },
  {
   "cell_type": "code",
   "execution_count": 21,
   "metadata": {},
   "outputs": [
    {
     "name": "stdout",
     "output_type": "stream",
     "text": [
      "Num Folds:  3\n",
      "Score  0.795\n",
      "Model params  {'n_estimators': 100, 'learning_rate': 0.30000000000000004}\n",
      "Num Folds:  4\n",
      "Score  0.795\n",
      "Model params  {'n_estimators': 100, 'learning_rate': 0.30000000000000004}\n",
      "Num Folds:  5\n",
      "Score  0.795\n",
      "Model params  {'n_estimators': 100, 'learning_rate': 0.30000000000000004}\n"
     ]
    }
   ],
   "source": [
    "from sklearn.model_selection import RandomizedSearchCV\n",
    "from sklearn.model_selection import train_test_split\n",
    "from sklearn.ensemble import AdaBoostClassifier\n",
    "from sklearn.tree import DecisionTreeClassifier\n",
    "\n",
    "X_train, X_test, y_train, y_test = train_test_split(X,y, test_size=0.2, random_state = 50)\n",
    "\n",
    "dtc = DecisionTreeClassifier()\n",
    "adaboost = AdaBoostClassifier(base_estimator = dtc)\n",
    "\n",
    "hyperparams = {\n",
    "    'n_estimators' : [10,50,100,500,1000,5000],\n",
    "    'learning_rate': np.arange(0.2,1, 0.1)\n",
    "}\n",
    "\n",
    "rgs = RandomizedSearchCV(\n",
    "        model,\n",
    "        param_distributions = hyperparams,\n",
    "        n_iter = 10,\n",
    "        random_state = 50,\n",
    "        n_jobs = -1,\n",
    "        scoring = 'accuracy'\n",
    ")\n",
    "for cv_num_folds in range(3,6):\n",
    "    rgs.cv = cv_num_folds\n",
    "    rgs.fit(X_train, y_train)\n",
    "    \n",
    "    score = rgs.score(X_test, y_test)\n",
    "    print(\"Num Folds: \", cv_num_folds)\n",
    "    print(\"Score \", score)\n",
    "    print(\"Model params \", rgs.best_params_)\n",
    "\n",
    "    "
   ]
  },
  {
   "cell_type": "code",
   "execution_count": null,
   "metadata": {},
   "outputs": [],
   "source": [
    "# Run predictions on best model\n",
    "\n",
    "best_model = "
   ]
  }
 ],
 "metadata": {
  "kernelspec": {
   "display_name": "Python 3.8.2 64-bit ('ml_basics': conda)",
   "language": "python",
   "name": "python38264bitmlbasicsconda7c676dba8e4645c39a6ded86a69eea50"
  },
  "language_info": {
   "codemirror_mode": {
    "name": "ipython",
    "version": 3
   },
   "file_extension": ".py",
   "mimetype": "text/x-python",
   "name": "python",
   "nbconvert_exporter": "python",
   "pygments_lexer": "ipython3",
   "version": "3.8.2"
  }
 },
 "nbformat": 4,
 "nbformat_minor": 4
}
